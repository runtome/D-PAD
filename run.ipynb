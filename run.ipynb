{
 "cells": [
  {
   "cell_type": "code",
   "execution_count": 10,
   "metadata": {},
   "outputs": [
    {
     "name": "stdout",
     "output_type": "stream",
     "text": [
      "DPAD_SE\n"
     ]
    }
   ],
   "source": [
    "class DefaultArgs:\n",
    "    def __init__(self):\n",
    "        self.model = 'DPAD_SE'\n",
    "        self.data = 'weather'\n",
    "        self.root_path = './datasets/long/'\n",
    "        self.data_path = 'weather.csv'\n",
    "        self.features = 'S'  # Default is univariate\n",
    "        self.target = 'OT'\n",
    "        self.checkpoints = 'exp/run_ETT/'\n",
    "        self.seq_len = 336\n",
    "        self.label_len = 0\n",
    "        self.pred_len = 336\n",
    "        self.enc_hidden = 336\n",
    "        self.dec_hidden = 336\n",
    "        self.dropout = 0.5\n",
    "        self.levels = 2\n",
    "        self.K_IMP = 6\n",
    "        self.num_heads = 1\n",
    "        self.cols = None  # Assuming no default value for file list\n",
    "        self.num_workers = 1\n",
    "        self.itr = 0\n",
    "        self.train_epochs = 100\n",
    "        self.batch_size = 512\n",
    "        self.patience = 5\n",
    "        self.lr = 0.0001\n",
    "        self.loss = 'mae'\n",
    "        self.lradj = 1\n",
    "        self.use_amp = False\n",
    "        self.save = False\n",
    "        self.model_name = 'DPAD_GCN'\n",
    "        self.RIN = 1\n",
    "        self.evaluate = 0\n",
    "\n",
    "# Usage\n",
    "default_args = DefaultArgs()\n"
   ]
  },
  {
   "cell_type": "code",
   "execution_count": 12,
   "metadata": {},
   "outputs": [
    {
     "name": "stdout",
     "output_type": "stream",
     "text": [
      "test 18922\n"
     ]
    }
   ],
   "source": [
    "from experiments.exp_ETT import Exp_ETT\n",
    "Exp = Exp_ETT\n",
    "exp = Exp(default_args)"
   ]
  },
  {
   "cell_type": "code",
   "execution_count": null,
   "metadata": {},
   "outputs": [],
   "source": []
  }
 ],
 "metadata": {
  "kernelspec": {
   "display_name": "lightning",
   "language": "python",
   "name": "python3"
  },
  "language_info": {
   "codemirror_mode": {
    "name": "ipython",
    "version": 3
   },
   "file_extension": ".py",
   "mimetype": "text/x-python",
   "name": "python",
   "nbconvert_exporter": "python",
   "pygments_lexer": "ipython3",
   "version": "3.11.5"
  }
 },
 "nbformat": 4,
 "nbformat_minor": 2
}
